{
 "cells": [
  {
   "cell_type": "markdown",
   "metadata": {},
   "source": [
    "# Private Aggregation of Teacher Ensembles (PATE)\n",
    "\n",
    "\n",
    "\n",
    "![PATE chart](img/pate.jpeg)"
   ]
  },
  {
   "cell_type": "markdown",
   "metadata": {},
   "source": [
    "## Import libraries"
   ]
  },
  {
   "cell_type": "code",
   "execution_count": 1,
   "metadata": {},
   "outputs": [],
   "source": [
    "import torch\n",
    "\n",
    "import numpy as np\n",
    "from torchvision import datasets\n",
    "import torchvision.transforms as transforms\n",
    "from torch.utils.data import Subset"
   ]
  },
  {
   "cell_type": "markdown",
   "metadata": {},
   "source": [
    "## Load the [Data](http://pytorch.org/docs/stable/torchvision/datasets.html)\n",
    "\n",
    "Downloading may take a few moments, and you should see your progress as the data is loading. You may also choose to change the `batch_size` if you want to load more data at a time."
   ]
  },
  {
   "cell_type": "code",
   "execution_count": 2,
   "metadata": {},
   "outputs": [],
   "source": [
    "# number of subprocesses to use for data loading\n",
    "num_workers = 0\n",
    "# how many samples per batch to load\n",
    "batch_size = 32\n",
    "\n",
    "# convert data to torch.FloatTensor\n",
    "transform = transforms.Compose([transforms.ToTensor(),\n",
    "                                transforms.Normalize((0.5, 0.5, 0.5), (0.5, 0.5, 0.5))])\n",
    "\n",
    "# choose the training and test datasets\n",
    "train_data = datasets.MNIST(root='data', train=True,\n",
    "                                   download=True, transform=transform)\n",
    "test_data = datasets.MNIST(root='data', train=False,\n",
    "                                  download=True, transform=transform)\n"
   ]
  },
  {
   "cell_type": "markdown",
   "metadata": {},
   "source": [
    "Function for returning dataloaders for a number of teachers and 1 student."
   ]
  },
  {
   "cell_type": "code",
   "execution_count": 3,
   "metadata": {},
   "outputs": [],
   "source": [
    "# number of teachers to essemble\n",
    "num_teachers = 10\n",
    "\n",
    "def get_data_loaders(train_data, test_data, num_teachers = 10):\n",
    "    teacher_loaders = []\n",
    "    data_size = len(train_data) // num_teachers\n",
    "\n",
    "    for i in range(num_teachers):\n",
    "        indices = list(range(i*data_size, (i+1) *data_size))\n",
    "        subset_data = Subset(train_data, indices)\n",
    "        loader = torch.utils.data.DataLoader(subset_data, batch_size=batch_size, num_workers=num_workers)\n",
    "        teacher_loaders.append(loader)\n",
    "\n",
    "        student_loader = torch.utils.data.DataLoader(test_data, batch_size=batch_size, \n",
    "            num_workers=num_workers)\n",
    "\n",
    "    return teacher_loaders, student_loader\n",
    "\n",
    "teacher_loaders, student_loader = get_data_loaders(train_data, test_data, num_teachers)"
   ]
  },
  {
   "cell_type": "markdown",
   "metadata": {},
   "source": [
    "## Defining models\n",
    "\n",
    "I'm going to define a single model for all the teachers, the analysis does not depends on the model"
   ]
  },
  {
   "cell_type": "code",
   "execution_count": 4,
   "metadata": {},
   "outputs": [],
   "source": [
    "import torch.nn as nn\n",
    "import torch.nn.functional as F\n",
    "import torch.optim as optim\n",
    "\n",
    "class Net(nn.Module):\n",
    "    def __init__(self):\n",
    "        super(Net, self).__init__()\n",
    "        self.conv1 = nn.Conv2d(1, 10, kernel_size=5)\n",
    "        self.conv2 = nn.Conv2d(10, 20, kernel_size=5)\n",
    "        self.conv2_drop = nn.Dropout2d()\n",
    "        self.fc1 = nn.Linear(320, 50)\n",
    "        self.fc2 = nn.Linear(50, 10)\n",
    "\n",
    "    def forward(self, x):\n",
    "        x = F.relu(F.max_pool2d(self.conv1(x), 2))\n",
    "        x = F.relu(F.max_pool2d(self.conv2_drop(self.conv2(x)), 2))\n",
    "        x = x.view(-1, 320)\n",
    "        x = F.relu(self.fc1(x))\n",
    "        x = F.dropout(x, training=self.training)\n",
    "        x = self.fc2(x)\n",
    "        return F.log_softmax(x)\n",
    "    "
   ]
  },
  {
   "cell_type": "code",
   "execution_count": 5,
   "metadata": {},
   "outputs": [],
   "source": [
    "def train(model, trainloader, criterion, optimizer, epochs=5, print_every=120):\n",
    "    \n",
    "    steps = 0\n",
    "    running_loss = 0\n",
    "    for e in range(epochs):\n",
    "        # Model in training mode, dropout is on\n",
    "        model.train()\n",
    "        for images, labels in trainloader:\n",
    "            steps += 1\n",
    "            \n",
    "            optimizer.zero_grad()\n",
    "            \n",
    "            output = model.forward(images)\n",
    "            loss = criterion(output, labels)\n",
    "            loss.backward()\n",
    "            optimizer.step()\n",
    "            \n",
    "            running_loss += loss.item()\n",
    "\n",
    "            if steps % print_every == 0:\n",
    "                print(\"Epoch: {}/{}.. \".format(e+1, epochs),\n",
    "                      \"Training Loss: {:.3f}.. \".format(running_loss/print_every))\n",
    "                running_loss = 0\n"
   ]
  },
  {
   "cell_type": "code",
   "execution_count": 58,
   "metadata": {},
   "outputs": [],
   "source": [
    "def predict(model, dataloader):\n",
    "    outputs = torch.torch.zeros(0, dtype=torch.long)\n",
    "    model.eval()\n",
    "    for images, labels in dataloader:\n",
    "        output = model.forward(images)\n",
    "        ps = torch.argmax(torch.exp(output), dim=1)\n",
    "        outputs = torch.cat((outputs, ps))\n",
    "    \n",
    "    return outputs    \n"
   ]
  },
  {
   "cell_type": "markdown",
   "metadata": {},
   "source": [
    "## Training all the teacher models\n",
    "\n",
    "Here we define and train the teachers"
   ]
  },
  {
   "cell_type": "code",
   "execution_count": 6,
   "metadata": {},
   "outputs": [
    {
     "name": "stdout",
     "output_type": "stream",
     "text": [
      "Training teacher 1\n"
     ]
    },
    {
     "name": "stderr",
     "output_type": "stream",
     "text": [
      "/home/diego/anaconda3/envs/tf_gpu/lib/python3.6/site-packages/ipykernel_launcher.py:21: UserWarning: Implicit dimension choice for log_softmax has been deprecated. Change the call to include dim=X as an argument.\n"
     ]
    },
    {
     "name": "stdout",
     "output_type": "stream",
     "text": [
      "Epoch: 1/5..  Training Loss: 1.358.. \n",
      "Epoch: 2/5..  Training Loss: 0.654.. \n",
      "Epoch: 2/5..  Training Loss: 0.500.. \n",
      "Epoch: 3/5..  Training Loss: 0.442.. \n",
      "Epoch: 4/5..  Training Loss: 0.435.. \n",
      "Epoch: 4/5..  Training Loss: 0.396.. \n",
      "Epoch: 5/5..  Training Loss: 0.376.. \n",
      "Training teacher 2\n",
      "Epoch: 1/5..  Training Loss: 1.352.. \n",
      "Epoch: 2/5..  Training Loss: 0.628.. \n",
      "Epoch: 2/5..  Training Loss: 0.514.. \n",
      "Epoch: 3/5..  Training Loss: 0.470.. \n",
      "Epoch: 4/5..  Training Loss: 0.395.. \n",
      "Epoch: 4/5..  Training Loss: 0.402.. \n",
      "Epoch: 5/5..  Training Loss: 0.371.. \n",
      "Training teacher 3\n",
      "Epoch: 1/5..  Training Loss: 1.306.. \n",
      "Epoch: 2/5..  Training Loss: 0.651.. \n",
      "Epoch: 2/5..  Training Loss: 0.532.. \n",
      "Epoch: 3/5..  Training Loss: 0.442.. \n",
      "Epoch: 4/5..  Training Loss: 0.418.. \n",
      "Epoch: 4/5..  Training Loss: 0.348.. \n",
      "Epoch: 5/5..  Training Loss: 0.391.. \n",
      "Training teacher 4\n",
      "Epoch: 1/5..  Training Loss: 1.339.. \n",
      "Epoch: 2/5..  Training Loss: 0.647.. \n",
      "Epoch: 2/5..  Training Loss: 0.492.. \n",
      "Epoch: 3/5..  Training Loss: 0.448.. \n",
      "Epoch: 4/5..  Training Loss: 0.406.. \n",
      "Epoch: 4/5..  Training Loss: 0.391.. \n",
      "Epoch: 5/5..  Training Loss: 0.346.. \n",
      "Training teacher 5\n",
      "Epoch: 1/5..  Training Loss: 1.215.. \n",
      "Epoch: 2/5..  Training Loss: 0.565.. \n",
      "Epoch: 2/5..  Training Loss: 0.453.. \n",
      "Epoch: 3/5..  Training Loss: 0.426.. \n",
      "Epoch: 4/5..  Training Loss: 0.358.. \n",
      "Epoch: 4/5..  Training Loss: 0.298.. \n",
      "Epoch: 5/5..  Training Loss: 0.329.. \n",
      "Training teacher 6\n",
      "Epoch: 1/5..  Training Loss: 1.306.. \n",
      "Epoch: 2/5..  Training Loss: 0.608.. \n",
      "Epoch: 2/5..  Training Loss: 0.475.. \n",
      "Epoch: 3/5..  Training Loss: 0.447.. \n",
      "Epoch: 4/5..  Training Loss: 0.359.. \n",
      "Epoch: 4/5..  Training Loss: 0.344.. \n",
      "Epoch: 5/5..  Training Loss: 0.352.. \n",
      "Training teacher 7\n",
      "Epoch: 1/5..  Training Loss: 1.353.. \n",
      "Epoch: 2/5..  Training Loss: 0.686.. \n",
      "Epoch: 2/5..  Training Loss: 0.529.. \n",
      "Epoch: 3/5..  Training Loss: 0.462.. \n",
      "Epoch: 4/5..  Training Loss: 0.410.. \n",
      "Epoch: 4/5..  Training Loss: 0.386.. \n",
      "Epoch: 5/5..  Training Loss: 0.371.. \n",
      "Training teacher 8\n",
      "Epoch: 1/5..  Training Loss: 1.543.. \n",
      "Epoch: 2/5..  Training Loss: 0.804.. \n",
      "Epoch: 2/5..  Training Loss: 0.651.. \n",
      "Epoch: 3/5..  Training Loss: 0.585.. \n",
      "Epoch: 4/5..  Training Loss: 0.580.. \n",
      "Epoch: 4/5..  Training Loss: 0.501.. \n",
      "Epoch: 5/5..  Training Loss: 0.489.. \n",
      "Training teacher 9\n",
      "Epoch: 1/5..  Training Loss: 1.282.. \n",
      "Epoch: 2/5..  Training Loss: 0.589.. \n",
      "Epoch: 2/5..  Training Loss: 0.497.. \n",
      "Epoch: 3/5..  Training Loss: 0.443.. \n",
      "Epoch: 4/5..  Training Loss: 0.377.. \n",
      "Epoch: 4/5..  Training Loss: 0.373.. \n",
      "Epoch: 5/5..  Training Loss: 0.333.. \n",
      "Training teacher 10\n",
      "Epoch: 1/5..  Training Loss: 1.323.. \n",
      "Epoch: 2/5..  Training Loss: 0.537.. \n",
      "Epoch: 2/5..  Training Loss: 0.456.. \n",
      "Epoch: 3/5..  Training Loss: 0.457.. \n",
      "Epoch: 4/5..  Training Loss: 0.362.. \n",
      "Epoch: 4/5..  Training Loss: 0.364.. \n",
      "Epoch: 5/5..  Training Loss: 0.364.. \n"
     ]
    }
   ],
   "source": [
    "# Instantiate and train the models for each teacher\n",
    "def train_models(num_teachers):\n",
    "    models = []\n",
    "    for t in range(num_teachers):\n",
    "        print(\"Training teacher {}\".format(t+1))\n",
    "        model = Net()\n",
    "        criterion = nn.NLLLoss()\n",
    "        optimizer = optim.Adam(model.parameters(), lr=0.003)\n",
    "        train(model, teacher_loaders[t], criterion, optimizer)\n",
    "        models.append(model)\n",
    "    return models\n",
    "\n",
    "models = train_models(num_teachers) "
   ]
  },
  {
   "cell_type": "markdown",
   "metadata": {},
   "source": [
    "## Aggregated teacher\n",
    "\n",
    "This function predict the labels from all the dataset in each of the teachers, then return all the predictions and the maximum votation after adding laplacian noise"
   ]
  },
  {
   "cell_type": "code",
   "execution_count": 124,
   "metadata": {},
   "outputs": [],
   "source": [
    "import numpy as np"
   ]
  },
  {
   "cell_type": "code",
   "execution_count": 125,
   "metadata": {},
   "outputs": [],
   "source": [
    "def aggregated_teacher(models, data_loader):\n",
    "    preds = torch.torch.zeros((len(models), 10000), dtype=torch.long)\n",
    "    for i, model in enumerate(models):\n",
    "        results = predict(model, data_loader)\n",
    "        preds[i] = results\n",
    "        \n",
    "    labels = []\n",
    "    preds = np.transpose(preds.numpy())\n",
    "    for image_preds in preds:\n",
    "        label_counts = np.bincount(image_preds, minlength=10)\n",
    "        epsilon = 0.1\n",
    "        beta = 1 / epsilon\n",
    "\n",
    "        for i in range(len(label_counts)):\n",
    "            label_counts[i] += np.random.laplace(0, beta, 1)\n",
    "\n",
    "        new_label = np.argmax(label_counts)\n",
    "        labels.append(new_label)\n",
    "\n",
    "    return preds, labels"
   ]
  },
  {
   "cell_type": "code",
   "execution_count": 126,
   "metadata": {},
   "outputs": [
    {
     "name": "stderr",
     "output_type": "stream",
     "text": [
      "/home/diego/anaconda3/envs/tf_gpu/lib/python3.6/site-packages/ipykernel_launcher.py:21: UserWarning: Implicit dimension choice for log_softmax has been deprecated. Change the call to include dim=X as an argument.\n"
     ]
    }
   ],
   "source": [
    "teacher_models = models\n",
    "preds, labels = aggregated_teacher(teacher_models, student_loader)"
   ]
  },
  {
   "cell_type": "markdown",
   "metadata": {},
   "source": [
    "Pending make PATE analysis"
   ]
  },
  {
   "cell_type": "code",
   "execution_count": null,
   "metadata": {},
   "outputs": [],
   "source": []
  }
 ],
 "metadata": {
  "kernelspec": {
   "display_name": "Python (tf_gpu)",
   "language": "python",
   "name": "tf_gpu"
  },
  "language_info": {
   "codemirror_mode": {
    "name": "ipython",
    "version": 3
   },
   "file_extension": ".py",
   "mimetype": "text/x-python",
   "name": "python",
   "nbconvert_exporter": "python",
   "pygments_lexer": "ipython3",
   "version": "3.6.8"
  }
 },
 "nbformat": 4,
 "nbformat_minor": 2
}
